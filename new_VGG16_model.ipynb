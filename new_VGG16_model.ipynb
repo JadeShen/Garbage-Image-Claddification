{
 "cells": [
  {
   "cell_type": "code",
   "execution_count": 10,
   "metadata": {},
   "outputs": [],
   "source": [
    "from keras.preprocessing.image import img_to_array, load_img\n",
    "from keras.applications.vgg19 import VGG16\n",
    "from keras.applications.vgg19 import preprocess_input\n",
    "import numpy as np\n",
    "import os\n",
    "from sklearn.preprocessing import LabelBinarizer\n",
    "from keras.models import Sequential\n",
    "from keras.layers import Dense\n",
    "from sklearn.model_selection import train_test_split\n",
    "from sklearn.metrics import recall_score\n",
    "import matplotlib as mlp\n",
    "import matplotlib.pyplot as plt\n",
    "from matplotlib.image import imread\n",
    "from keras.preprocessing.image import load_img\n",
    "from keras.preprocessing.image import img_to_array\n",
    "from keras.models import load_model\n",
    "from PIL import Image\n",
    "# label_index = {'landfill_trash': 6, 'plastic': 5, 'paper': 4, 'mental': 3, 'glass': 2, 'cardboard': 1};\n"
   ]
  },
  {
   "cell_type": "code",
   "execution_count": 11,
   "metadata": {},
   "outputs": [],
   "source": [
    "model_vgg = VGG16(weights='imagenet', include_top=False)"
   ]
  },
  {
   "cell_type": "code",
   "execution_count": 12,
   "metadata": {},
   "outputs": [],
   "source": [
    "def modelProcess(img_path, model):\n",
    "    img = load_img(img_path, target_size=(224, 224)) \n",
    "    img = img_to_array(img) \n",
    "    x = np.expand_dims(img, axis=0) \n",
    "    x = preprocess_input(x) \n",
    "    x_vgg = model.predict(x) \n",
    "    \n",
    "    x_vgg = x_vgg.reshape(1, 25088)\n",
    "    return x_vgg"
   ]
  },
  {
   "cell_type": "code",
   "execution_count": 13,
   "metadata": {},
   "outputs": [],
   "source": [
    "def transform_format(path):  \n",
    "    folders = os.listdir(path)  \n",
    "    for j in range(len(folders)):\n",
    "        dirName = path + '//' + folders[j] + '//' \n",
    "        li = os.listdir(dirName)  \n",
    "        for filename in li:\n",
    "            newname = filename\n",
    "            newname = newname.split(\".\")  \n",
    "            if newname[-1] != \"png\":  \n",
    "                newname[-1] = \"png\"\n",
    "                newname = str.join(\".\", newname)  \n",
    "                filename = dirName + filename\n",
    "                newname = dirName + newname\n",
    "                os.rename(filename, newname)  \n",
    "                print('reading the images:%s' % (newname))  \n",
    "                a = np.array(Image.open(newname))  \n",
    "                if ((len(a.shape) != 3) or (a.shape[2] != 3)):  \n",
    "                    a = np.array(Image.open(newname).convert('RGB'))  \n",
    "                    img = Image.fromarray(a.astype('uint8'))  \n",
    "                    img.save(newname)  \n",
    "                    print(a.shape)  \n",
    "    print(\"CHANGE TO PNG\")\n",
    "    print(\"CHANGE TO RGB\")"
   ]
  },
  {
   "cell_type": "code",
   "execution_count": 14,
   "metadata": {},
   "outputs": [],
   "source": [
    "def read_data(path):\n",
    "    folders = os.listdir(path) \n",
    "    for j in range(len(folders)): \n",
    "        folder = path + '//' + folders[j] \n",
    "        dirs = os.listdir(folder) \n",
    "       \n",
    "        img_path = []\n",
    "        for i in dirs:\n",
    "            if os.path.splitext(i)[1] == \".png\": \n",
    "                img_path.append(i)\n",
    "        img_path = [folder + \"//\" + i for i in img_path] \n",
    "        features1 = np.zeros([len(img_path), 25088]) \n",
    "        for i in range(len(img_path)):\n",
    "            feature_i = modelProcess(img_path[i], model_vgg) \n",
    "            # print('preprocessed:', img_path[i])\n",
    "            features1[i] = feature_i\n",
    "        if j == 0: \n",
    "            X = features1 \n",
    "        else:\n",
    "            X = np.concatenate((X, features1), axis=0)\n",
    "           \n",
    "    return X \n",
    "       "
   ]
  },
  {
   "cell_type": "code",
   "execution_count": 15,
   "metadata": {},
   "outputs": [],
   "source": [
    "def read_label(path):\n",
    "    y = []\n",
    "    folders = os.listdir(path)  \n",
    "    for j in range(len(folders)): \n",
    "        dirName = path + '//' + folders[j] + '//' \n",
    "        lens = len(os.listdir(dirName)) \n",
    "        for i in range(lens):\n",
    "            y.append(j) \n",
    "    lb = LabelBinarizer() \n",
    "    y = lb.fit_transform(y)\n",
    "    return y"
   ]
  },
  {
   "cell_type": "code",
   "execution_count": 16,
   "metadata": {
    "collapsed": true,
    "jupyter": {
     "outputs_hidden": true
    }
   },
   "outputs": [
    {
     "name": "stdout",
     "output_type": "stream",
     "text": [
      "CHANGE TO PNG\n",
      "CHANGE TO RGB\n"
     ]
    },
    {
     "ename": "UnknownError",
     "evalue": "2 root error(s) found.\n  (0) Unknown: Failed to get convolution algorithm. This is probably because cuDNN failed to initialize, so try looking to see if a warning log message was printed above.\n\t [[{{node block1_conv1_1/convolution}}]]\n  (1) Unknown: Failed to get convolution algorithm. This is probably because cuDNN failed to initialize, so try looking to see if a warning log message was printed above.\n\t [[{{node block1_conv1_1/convolution}}]]\n\t [[block5_pool_1/MaxPool/_391]]\n0 successful operations.\n0 derived errors ignored.",
     "output_type": "error",
     "traceback": [
      "\u001b[1;31m---------------------------------------------------------------------------\u001b[0m",
      "\u001b[1;31mUnknownError\u001b[0m                              Traceback (most recent call last)",
      "\u001b[1;32m<ipython-input-16-783b33e1d02e>\u001b[0m in \u001b[0;36m<module>\u001b[1;34m\u001b[0m\n\u001b[0;32m     13\u001b[0m \u001b[1;33m\u001b[0m\u001b[0m\n\u001b[0;32m     14\u001b[0m \u001b[0mtransform_format\u001b[0m\u001b[1;33m(\u001b[0m\u001b[0mpath\u001b[0m\u001b[1;33m)\u001b[0m\u001b[1;33m\u001b[0m\u001b[1;33m\u001b[0m\u001b[0m\n\u001b[1;32m---> 15\u001b[1;33m \u001b[0mX\u001b[0m \u001b[1;33m=\u001b[0m \u001b[0mread_data\u001b[0m\u001b[1;33m(\u001b[0m\u001b[0mpath\u001b[0m\u001b[1;33m)\u001b[0m\u001b[1;33m\u001b[0m\u001b[1;33m\u001b[0m\u001b[0m\n\u001b[0m\u001b[0;32m     16\u001b[0m \u001b[1;31m# print('X.shape:', X.shape)\u001b[0m\u001b[1;33m\u001b[0m\u001b[1;33m\u001b[0m\u001b[1;33m\u001b[0m\u001b[0m\n\u001b[0;32m     17\u001b[0m \u001b[1;31m# print('y.shape:', y.shape)\u001b[0m\u001b[1;33m\u001b[0m\u001b[1;33m\u001b[0m\u001b[1;33m\u001b[0m\u001b[0m\n",
      "\u001b[1;32m<ipython-input-14-4ce2ce271c39>\u001b[0m in \u001b[0;36mread_data\u001b[1;34m(path)\u001b[0m\n\u001b[0;32m     12\u001b[0m         \u001b[0mfeatures1\u001b[0m \u001b[1;33m=\u001b[0m \u001b[0mnp\u001b[0m\u001b[1;33m.\u001b[0m\u001b[0mzeros\u001b[0m\u001b[1;33m(\u001b[0m\u001b[1;33m[\u001b[0m\u001b[0mlen\u001b[0m\u001b[1;33m(\u001b[0m\u001b[0mimg_path\u001b[0m\u001b[1;33m)\u001b[0m\u001b[1;33m,\u001b[0m \u001b[1;36m25088\u001b[0m\u001b[1;33m]\u001b[0m\u001b[1;33m)\u001b[0m\u001b[1;33m\u001b[0m\u001b[1;33m\u001b[0m\u001b[0m\n\u001b[0;32m     13\u001b[0m         \u001b[1;32mfor\u001b[0m \u001b[0mi\u001b[0m \u001b[1;32min\u001b[0m \u001b[0mrange\u001b[0m\u001b[1;33m(\u001b[0m\u001b[0mlen\u001b[0m\u001b[1;33m(\u001b[0m\u001b[0mimg_path\u001b[0m\u001b[1;33m)\u001b[0m\u001b[1;33m)\u001b[0m\u001b[1;33m:\u001b[0m\u001b[1;33m\u001b[0m\u001b[1;33m\u001b[0m\u001b[0m\n\u001b[1;32m---> 14\u001b[1;33m             \u001b[0mfeature_i\u001b[0m \u001b[1;33m=\u001b[0m \u001b[0mmodelProcess\u001b[0m\u001b[1;33m(\u001b[0m\u001b[0mimg_path\u001b[0m\u001b[1;33m[\u001b[0m\u001b[0mi\u001b[0m\u001b[1;33m]\u001b[0m\u001b[1;33m,\u001b[0m \u001b[0mmodel_vgg\u001b[0m\u001b[1;33m)\u001b[0m\u001b[1;33m\u001b[0m\u001b[1;33m\u001b[0m\u001b[0m\n\u001b[0m\u001b[0;32m     15\u001b[0m             \u001b[1;31m# print('preprocessed:', img_path[i])\u001b[0m\u001b[1;33m\u001b[0m\u001b[1;33m\u001b[0m\u001b[1;33m\u001b[0m\u001b[0m\n\u001b[0;32m     16\u001b[0m             \u001b[0mfeatures1\u001b[0m\u001b[1;33m[\u001b[0m\u001b[0mi\u001b[0m\u001b[1;33m]\u001b[0m \u001b[1;33m=\u001b[0m \u001b[0mfeature_i\u001b[0m\u001b[1;33m\u001b[0m\u001b[1;33m\u001b[0m\u001b[0m\n",
      "\u001b[1;32m<ipython-input-12-8c495f6f738c>\u001b[0m in \u001b[0;36mmodelProcess\u001b[1;34m(img_path, model)\u001b[0m\n\u001b[0;32m      4\u001b[0m     \u001b[0mx\u001b[0m \u001b[1;33m=\u001b[0m \u001b[0mnp\u001b[0m\u001b[1;33m.\u001b[0m\u001b[0mexpand_dims\u001b[0m\u001b[1;33m(\u001b[0m\u001b[0mimg\u001b[0m\u001b[1;33m,\u001b[0m \u001b[0maxis\u001b[0m\u001b[1;33m=\u001b[0m\u001b[1;36m0\u001b[0m\u001b[1;33m)\u001b[0m\u001b[1;33m\u001b[0m\u001b[1;33m\u001b[0m\u001b[0m\n\u001b[0;32m      5\u001b[0m     \u001b[0mx\u001b[0m \u001b[1;33m=\u001b[0m \u001b[0mpreprocess_input\u001b[0m\u001b[1;33m(\u001b[0m\u001b[0mx\u001b[0m\u001b[1;33m)\u001b[0m\u001b[1;33m\u001b[0m\u001b[1;33m\u001b[0m\u001b[0m\n\u001b[1;32m----> 6\u001b[1;33m     \u001b[0mx_vgg\u001b[0m \u001b[1;33m=\u001b[0m \u001b[0mmodel\u001b[0m\u001b[1;33m.\u001b[0m\u001b[0mpredict\u001b[0m\u001b[1;33m(\u001b[0m\u001b[0mx\u001b[0m\u001b[1;33m)\u001b[0m\u001b[1;33m\u001b[0m\u001b[1;33m\u001b[0m\u001b[0m\n\u001b[0m\u001b[0;32m      7\u001b[0m \u001b[1;33m\u001b[0m\u001b[0m\n\u001b[0;32m      8\u001b[0m     \u001b[0mx_vgg\u001b[0m \u001b[1;33m=\u001b[0m \u001b[0mx_vgg\u001b[0m\u001b[1;33m.\u001b[0m\u001b[0mreshape\u001b[0m\u001b[1;33m(\u001b[0m\u001b[1;36m1\u001b[0m\u001b[1;33m,\u001b[0m \u001b[1;36m25088\u001b[0m\u001b[1;33m)\u001b[0m\u001b[1;33m\u001b[0m\u001b[1;33m\u001b[0m\u001b[0m\n",
      "\u001b[1;32m~\\anaconda3\\lib\\site-packages\\keras\\engine\\training.py\u001b[0m in \u001b[0;36mpredict\u001b[1;34m(self, x, batch_size, verbose, steps, callbacks, max_queue_size, workers, use_multiprocessing)\u001b[0m\n\u001b[0;32m   1460\u001b[0m                                             \u001b[0mverbose\u001b[0m\u001b[1;33m=\u001b[0m\u001b[0mverbose\u001b[0m\u001b[1;33m,\u001b[0m\u001b[1;33m\u001b[0m\u001b[1;33m\u001b[0m\u001b[0m\n\u001b[0;32m   1461\u001b[0m                                             \u001b[0msteps\u001b[0m\u001b[1;33m=\u001b[0m\u001b[0msteps\u001b[0m\u001b[1;33m,\u001b[0m\u001b[1;33m\u001b[0m\u001b[1;33m\u001b[0m\u001b[0m\n\u001b[1;32m-> 1462\u001b[1;33m                                             callbacks=callbacks)\n\u001b[0m\u001b[0;32m   1463\u001b[0m \u001b[1;33m\u001b[0m\u001b[0m\n\u001b[0;32m   1464\u001b[0m     def train_on_batch(self, x, y,\n",
      "\u001b[1;32m~\\anaconda3\\lib\\site-packages\\keras\\engine\\training_arrays.py\u001b[0m in \u001b[0;36mpredict_loop\u001b[1;34m(model, f, ins, batch_size, verbose, steps, callbacks)\u001b[0m\n\u001b[0;32m    322\u001b[0m             \u001b[0mbatch_logs\u001b[0m \u001b[1;33m=\u001b[0m \u001b[1;33m{\u001b[0m\u001b[1;34m'batch'\u001b[0m\u001b[1;33m:\u001b[0m \u001b[0mbatch_index\u001b[0m\u001b[1;33m,\u001b[0m \u001b[1;34m'size'\u001b[0m\u001b[1;33m:\u001b[0m \u001b[0mlen\u001b[0m\u001b[1;33m(\u001b[0m\u001b[0mbatch_ids\u001b[0m\u001b[1;33m)\u001b[0m\u001b[1;33m}\u001b[0m\u001b[1;33m\u001b[0m\u001b[1;33m\u001b[0m\u001b[0m\n\u001b[0;32m    323\u001b[0m             \u001b[0mcallbacks\u001b[0m\u001b[1;33m.\u001b[0m\u001b[0m_call_batch_hook\u001b[0m\u001b[1;33m(\u001b[0m\u001b[1;34m'predict'\u001b[0m\u001b[1;33m,\u001b[0m \u001b[1;34m'begin'\u001b[0m\u001b[1;33m,\u001b[0m \u001b[0mbatch_index\u001b[0m\u001b[1;33m,\u001b[0m \u001b[0mbatch_logs\u001b[0m\u001b[1;33m)\u001b[0m\u001b[1;33m\u001b[0m\u001b[1;33m\u001b[0m\u001b[0m\n\u001b[1;32m--> 324\u001b[1;33m             \u001b[0mbatch_outs\u001b[0m \u001b[1;33m=\u001b[0m \u001b[0mf\u001b[0m\u001b[1;33m(\u001b[0m\u001b[0mins_batch\u001b[0m\u001b[1;33m)\u001b[0m\u001b[1;33m\u001b[0m\u001b[1;33m\u001b[0m\u001b[0m\n\u001b[0m\u001b[0;32m    325\u001b[0m             \u001b[0mbatch_outs\u001b[0m \u001b[1;33m=\u001b[0m \u001b[0mto_list\u001b[0m\u001b[1;33m(\u001b[0m\u001b[0mbatch_outs\u001b[0m\u001b[1;33m)\u001b[0m\u001b[1;33m\u001b[0m\u001b[1;33m\u001b[0m\u001b[0m\n\u001b[0;32m    326\u001b[0m             \u001b[1;32mif\u001b[0m \u001b[0mbatch_index\u001b[0m \u001b[1;33m==\u001b[0m \u001b[1;36m0\u001b[0m\u001b[1;33m:\u001b[0m\u001b[1;33m\u001b[0m\u001b[1;33m\u001b[0m\u001b[0m\n",
      "\u001b[1;32m~\\anaconda3\\lib\\site-packages\\tensorflow\\python\\keras\\backend.py\u001b[0m in \u001b[0;36m__call__\u001b[1;34m(self, inputs)\u001b[0m\n\u001b[0;32m   3290\u001b[0m \u001b[1;33m\u001b[0m\u001b[0m\n\u001b[0;32m   3291\u001b[0m     fetched = self._callable_fn(*array_vals,\n\u001b[1;32m-> 3292\u001b[1;33m                                 run_metadata=self.run_metadata)\n\u001b[0m\u001b[0;32m   3293\u001b[0m     \u001b[0mself\u001b[0m\u001b[1;33m.\u001b[0m\u001b[0m_call_fetch_callbacks\u001b[0m\u001b[1;33m(\u001b[0m\u001b[0mfetched\u001b[0m\u001b[1;33m[\u001b[0m\u001b[1;33m-\u001b[0m\u001b[0mlen\u001b[0m\u001b[1;33m(\u001b[0m\u001b[0mself\u001b[0m\u001b[1;33m.\u001b[0m\u001b[0m_fetches\u001b[0m\u001b[1;33m)\u001b[0m\u001b[1;33m:\u001b[0m\u001b[1;33m]\u001b[0m\u001b[1;33m)\u001b[0m\u001b[1;33m\u001b[0m\u001b[1;33m\u001b[0m\u001b[0m\n\u001b[0;32m   3294\u001b[0m     output_structure = nest.pack_sequence_as(\n",
      "\u001b[1;32m~\\anaconda3\\lib\\site-packages\\tensorflow\\python\\client\\session.py\u001b[0m in \u001b[0;36m__call__\u001b[1;34m(self, *args, **kwargs)\u001b[0m\n\u001b[0;32m   1456\u001b[0m         ret = tf_session.TF_SessionRunCallable(self._session._session,\n\u001b[0;32m   1457\u001b[0m                                                \u001b[0mself\u001b[0m\u001b[1;33m.\u001b[0m\u001b[0m_handle\u001b[0m\u001b[1;33m,\u001b[0m \u001b[0margs\u001b[0m\u001b[1;33m,\u001b[0m\u001b[1;33m\u001b[0m\u001b[1;33m\u001b[0m\u001b[0m\n\u001b[1;32m-> 1458\u001b[1;33m                                                run_metadata_ptr)\n\u001b[0m\u001b[0;32m   1459\u001b[0m         \u001b[1;32mif\u001b[0m \u001b[0mrun_metadata\u001b[0m\u001b[1;33m:\u001b[0m\u001b[1;33m\u001b[0m\u001b[1;33m\u001b[0m\u001b[0m\n\u001b[0;32m   1460\u001b[0m           \u001b[0mproto_data\u001b[0m \u001b[1;33m=\u001b[0m \u001b[0mtf_session\u001b[0m\u001b[1;33m.\u001b[0m\u001b[0mTF_GetBuffer\u001b[0m\u001b[1;33m(\u001b[0m\u001b[0mrun_metadata_ptr\u001b[0m\u001b[1;33m)\u001b[0m\u001b[1;33m\u001b[0m\u001b[1;33m\u001b[0m\u001b[0m\n",
      "\u001b[1;31mUnknownError\u001b[0m: 2 root error(s) found.\n  (0) Unknown: Failed to get convolution algorithm. This is probably because cuDNN failed to initialize, so try looking to see if a warning log message was printed above.\n\t [[{{node block1_conv1_1/convolution}}]]\n  (1) Unknown: Failed to get convolution algorithm. This is probably because cuDNN failed to initialize, so try looking to see if a warning log message was printed above.\n\t [[{{node block1_conv1_1/convolution}}]]\n\t [[block5_pool_1/MaxPool/_391]]\n0 successful operations.\n0 derived errors ignored."
     ]
    }
   ],
   "source": [
    "path = '/Users/sheny/Desktop/PROJECT/Module3/Train' \n",
    "\n",
    "y = []\n",
    "folders = os.listdir(path) \n",
    "for j in range(len(folders)): \n",
    "    dirName = path + '//' + folders[j] + '//'  \n",
    "    lens = len(os.listdir(dirName)) \n",
    "    for i in range(lens):\n",
    "        y.append(j) \n",
    "\n",
    "lb = LabelBinarizer()\n",
    "y = lb.fit_transform(y) \n",
    "\n",
    "transform_format(path)  \n",
    "X = read_data(path) \n",
    "# print('X.shape:', X.shape)\n",
    "# print('y.shape:', y.shape)\n",
    "# print('-' * 35)\n"
   ]
  },
  {
   "cell_type": "code",
   "execution_count": 8,
   "metadata": {},
   "outputs": [
    {
     "name": "stdout",
     "output_type": "stream",
     "text": [
      "['cardboard', 'glass', 'landfill_trash', 'mental', 'paper', 'plastic']\n"
     ]
    }
   ],
   "source": [
    "print(folders)"
   ]
  },
  {
   "cell_type": "code",
   "execution_count": 9,
   "metadata": {
    "collapsed": true,
    "jupyter": {
     "outputs_hidden": true
    }
   },
   "outputs": [
    {
     "ename": "NameError",
     "evalue": "name 'X' is not defined",
     "output_type": "error",
     "traceback": [
      "\u001b[1;31m---------------------------------------------------------------------------\u001b[0m",
      "\u001b[1;31mNameError\u001b[0m                                 Traceback (most recent call last)",
      "\u001b[1;32m<ipython-input-9-f38e7321b9f4>\u001b[0m in \u001b[0;36m<module>\u001b[1;34m\u001b[0m\n\u001b[1;32m----> 1\u001b[1;33m \u001b[0mX_train\u001b[0m\u001b[1;33m,\u001b[0m \u001b[0mX_test\u001b[0m\u001b[1;33m,\u001b[0m \u001b[0my_train\u001b[0m\u001b[1;33m,\u001b[0m \u001b[0my_test\u001b[0m \u001b[1;33m=\u001b[0m \u001b[0mtrain_test_split\u001b[0m\u001b[1;33m(\u001b[0m\u001b[0mX\u001b[0m\u001b[1;33m,\u001b[0m \u001b[0my\u001b[0m\u001b[1;33m,\u001b[0m \u001b[0mtest_size\u001b[0m\u001b[1;33m=\u001b[0m\u001b[1;36m0.25\u001b[0m\u001b[1;33m,\u001b[0m \u001b[0mrandom_state\u001b[0m\u001b[1;33m=\u001b[0m\u001b[1;36m50\u001b[0m\u001b[1;33m)\u001b[0m\u001b[1;33m\u001b[0m\u001b[1;33m\u001b[0m\u001b[0m\n\u001b[0m\u001b[0;32m      2\u001b[0m \u001b[0mprint\u001b[0m\u001b[1;33m(\u001b[0m\u001b[1;34m'X_train.shape:'\u001b[0m\u001b[1;33m,\u001b[0m \u001b[0mX_train\u001b[0m\u001b[1;33m.\u001b[0m\u001b[0mshape\u001b[0m\u001b[1;33m)\u001b[0m\u001b[1;33m\u001b[0m\u001b[1;33m\u001b[0m\u001b[0m\n\u001b[0;32m      3\u001b[0m \u001b[0mprint\u001b[0m\u001b[1;33m(\u001b[0m\u001b[1;34m'X_test.shape:'\u001b[0m\u001b[1;33m,\u001b[0m \u001b[0mX_test\u001b[0m\u001b[1;33m.\u001b[0m\u001b[0mshape\u001b[0m\u001b[1;33m)\u001b[0m\u001b[1;33m\u001b[0m\u001b[1;33m\u001b[0m\u001b[0m\n\u001b[0;32m      4\u001b[0m \u001b[0mprint\u001b[0m\u001b[1;33m(\u001b[0m\u001b[1;34m'y_train.shape:'\u001b[0m\u001b[1;33m,\u001b[0m \u001b[0my_train\u001b[0m\u001b[1;33m.\u001b[0m\u001b[0mshape\u001b[0m\u001b[1;33m)\u001b[0m\u001b[1;33m\u001b[0m\u001b[1;33m\u001b[0m\u001b[0m\n\u001b[0;32m      5\u001b[0m \u001b[0mprint\u001b[0m\u001b[1;33m(\u001b[0m\u001b[1;34m'y_test.shape:'\u001b[0m\u001b[1;33m,\u001b[0m \u001b[0my_test\u001b[0m\u001b[1;33m.\u001b[0m\u001b[0mshape\u001b[0m\u001b[1;33m)\u001b[0m\u001b[1;33m\u001b[0m\u001b[1;33m\u001b[0m\u001b[0m\n",
      "\u001b[1;31mNameError\u001b[0m: name 'X' is not defined"
     ]
    }
   ],
   "source": [
    "X_train, X_test, y_train, y_test = train_test_split(X, y, test_size=0.25, random_state=50)\n",
    "print('X_train.shape:', X_train.shape)\n",
    "print('X_test.shape:', X_test.shape)\n",
    "print('y_train.shape:', y_train.shape)\n",
    "print('y_test.shape:', y_test.shape)"
   ]
  },
  {
   "cell_type": "code",
   "execution_count": 330,
   "metadata": {},
   "outputs": [
    {
     "name": "stdout",
     "output_type": "stream",
     "text": [
      "Model: \"sequential_7\"\n",
      "_________________________________________________________________\n",
      "Layer (type)                 Output Shape              Param #   \n",
      "=================================================================\n",
      "dense_13 (Dense)             (None, 40)                1003560   \n",
      "_________________________________________________________________\n",
      "dense_14 (Dense)             (None, 6)                 246       \n",
      "=================================================================\n",
      "Total params: 1,003,806\n",
      "Trainable params: 1,003,806\n",
      "Non-trainable params: 0\n",
      "_________________________________________________________________\n"
     ]
    }
   ],
   "source": [
    "model = Sequential()\n",
    "model.add(Dense(units=40, activation='relu', input_dim=25088))\n",
    "\n",
    "model.add(Dense(units=6, activation='softmax'))\n",
    "\n",
    "model.summary()\n"
   ]
  },
  {
   "cell_type": "code",
   "execution_count": 331,
   "metadata": {},
   "outputs": [
    {
     "name": "stdout",
     "output_type": "stream",
     "text": [
      "Epoch 1/50\n",
      "947/947 [==============================] - 0s 292us/step - loss: 4.4639 - accuracy: 0.4203\n",
      "Epoch 2/50\n",
      "947/947 [==============================] - 0s 199us/step - loss: 1.1383 - accuracy: 0.5935\n",
      "Epoch 3/50\n",
      "947/947 [==============================] - 0s 197us/step - loss: 0.6822 - accuracy: 0.7318\n",
      "Epoch 4/50\n",
      "947/947 [==============================] - 0s 203us/step - loss: 0.4784 - accuracy: 0.7951\n",
      "Epoch 5/50\n",
      "947/947 [==============================] - 0s 202us/step - loss: 0.3917 - accuracy: 0.8226\n",
      "Epoch 6/50\n",
      "947/947 [==============================] - 0s 200us/step - loss: 0.3284 - accuracy: 0.8627\n",
      "Epoch 7/50\n",
      "947/947 [==============================] - ETA: 0s - loss: 0.2900 - accuracy: 0.88 - 0s 198us/step - loss: 0.3285 - accuracy: 0.8796\n",
      "Epoch 8/50\n",
      "947/947 [==============================] - 0s 199us/step - loss: 0.2396 - accuracy: 0.9166\n",
      "Epoch 9/50\n",
      "947/947 [==============================] - 0s 199us/step - loss: 0.2008 - accuracy: 0.92930s - loss: 0.1901 - accuracy: 0.\n",
      "Epoch 10/50\n",
      "947/947 [==============================] - 0s 197us/step - loss: 0.1792 - accuracy: 0.9388\n",
      "Epoch 11/50\n",
      "947/947 [==============================] - 0s 199us/step - loss: 0.1635 - accuracy: 0.9440\n",
      "Epoch 12/50\n",
      "947/947 [==============================] - 0s 198us/step - loss: 0.1838 - accuracy: 0.9472\n",
      "Epoch 13/50\n",
      "947/947 [==============================] - 0s 198us/step - loss: 0.1623 - accuracy: 0.9461\n",
      "Epoch 14/50\n",
      "947/947 [==============================] - 0s 202us/step - loss: 0.1707 - accuracy: 0.95140s - loss: 0.2364 - accuracy: \n",
      "Epoch 15/50\n",
      "947/947 [==============================] - 0s 204us/step - loss: 0.1588 - accuracy: 0.9535\n",
      "Epoch 16/50\n",
      "947/947 [==============================] - 0s 199us/step - loss: 0.1343 - accuracy: 0.9567\n",
      "Epoch 17/50\n",
      "947/947 [==============================] - 0s 199us/step - loss: 0.1239 - accuracy: 0.9599\n",
      "Epoch 18/50\n",
      "947/947 [==============================] - 0s 198us/step - loss: 0.1041 - accuracy: 0.9620\n",
      "Epoch 19/50\n",
      "947/947 [==============================] - 0s 197us/step - loss: 0.1010 - accuracy: 0.9620\n",
      "Epoch 20/50\n",
      "947/947 [==============================] - 0s 198us/step - loss: 0.1130 - accuracy: 0.9652\n",
      "Epoch 21/50\n",
      "947/947 [==============================] - ETA: 0s - loss: 0.1292 - accuracy: 0.95 - 0s 200us/step - loss: 0.1183 - accuracy: 0.9599\n",
      "Epoch 22/50\n",
      "947/947 [==============================] - 0s 199us/step - loss: 0.0968 - accuracy: 0.9620\n",
      "Epoch 23/50\n",
      "947/947 [==============================] - 0s 199us/step - loss: 0.1010 - accuracy: 0.9588\n",
      "Epoch 24/50\n",
      "947/947 [==============================] - 0s 200us/step - loss: 0.1007 - accuracy: 0.9578TA: 0s - loss: 0.0969 - accuracy: 0.\n",
      "Epoch 25/50\n",
      "947/947 [==============================] - 0s 198us/step - loss: 0.1127 - accuracy: 0.9683\n",
      "Epoch 26/50\n",
      "947/947 [==============================] - 0s 200us/step - loss: 0.0901 - accuracy: 0.9694\n",
      "Epoch 27/50\n",
      "947/947 [==============================] - 0s 201us/step - loss: 0.0788 - accuracy: 0.9662\n",
      "Epoch 28/50\n",
      "947/947 [==============================] - 0s 198us/step - loss: 0.0831 - accuracy: 0.9694\n",
      "Epoch 29/50\n",
      "947/947 [==============================] - 0s 197us/step - loss: 0.0622 - accuracy: 0.9778\n",
      "Epoch 30/50\n",
      "947/947 [==============================] - 0s 196us/step - loss: 0.0699 - accuracy: 0.9725\n",
      "Epoch 31/50\n",
      "947/947 [==============================] - 0s 196us/step - loss: 0.0728 - accuracy: 0.9757\n",
      "Epoch 32/50\n",
      "947/947 [==============================] - 0s 202us/step - loss: 0.0546 - accuracy: 0.9799\n",
      "Epoch 33/50\n",
      "947/947 [==============================] - 0s 204us/step - loss: 0.0515 - accuracy: 0.9768\n",
      "Epoch 34/50\n",
      "947/947 [==============================] - 0s 200us/step - loss: 0.0512 - accuracy: 0.9852\n",
      "Epoch 35/50\n",
      "947/947 [==============================] - 0s 199us/step - loss: 0.0486 - accuracy: 0.9863\n",
      "Epoch 36/50\n",
      "947/947 [==============================] - 0s 198us/step - loss: 0.0445 - accuracy: 0.9842\n",
      "Epoch 37/50\n",
      "947/947 [==============================] - 0s 197us/step - loss: 0.0402 - accuracy: 0.9852\n",
      "Epoch 38/50\n",
      "947/947 [==============================] - 0s 207us/step - loss: 0.0384 - accuracy: 0.9852\n",
      "Epoch 39/50\n",
      "947/947 [==============================] - 0s 204us/step - loss: 0.0366 - accuracy: 0.9852\n",
      "Epoch 40/50\n",
      "947/947 [==============================] - 0s 204us/step - loss: 0.0354 - accuracy: 0.9852\n",
      "Epoch 41/50\n",
      "947/947 [==============================] - 0s 200us/step - loss: 0.0339 - accuracy: 0.9852\n",
      "Epoch 42/50\n",
      "947/947 [==============================] - 0s 199us/step - loss: 0.0316 - accuracy: 0.9852\n",
      "Epoch 43/50\n",
      "947/947 [==============================] - 0s 200us/step - loss: 0.0319 - accuracy: 0.9852\n",
      "Epoch 44/50\n",
      "947/947 [==============================] - 0s 199us/step - loss: 0.0361 - accuracy: 0.9852\n",
      "Epoch 45/50\n",
      "947/947 [==============================] - 0s 201us/step - loss: 0.0319 - accuracy: 0.9873\n",
      "Epoch 46/50\n",
      "947/947 [==============================] - 0s 200us/step - loss: 0.0325 - accuracy: 0.9863\n",
      "Epoch 47/50\n",
      "947/947 [==============================] - 0s 201us/step - loss: 0.0319 - accuracy: 0.9863TA: 0s - loss: 0.0218 - accuracy: 0.\n",
      "Epoch 48/50\n",
      "947/947 [==============================] - 0s 200us/step - loss: 0.0310 - accuracy: 0.9863\n",
      "Epoch 49/50\n",
      "947/947 [==============================] - 0s 205us/step - loss: 0.0307 - accuracy: 0.9863\n",
      "Epoch 50/50\n",
      "947/947 [==============================] - 0s 205us/step - loss: 0.0306 - accuracy: 0.9863\n"
     ]
    },
    {
     "data": {
      "text/plain": [
       "<keras.callbacks.callbacks.History at 0x1972c25ac08>"
      ]
     },
     "execution_count": 331,
     "metadata": {},
     "output_type": "execute_result"
    }
   ],
   "source": [
    "model.compile(optimizer='adam', loss='categorical_crossentropy', metrics=['accuracy'])\n",
    "\n",
    "model.fit(X_train, y_train, epochs=50)"
   ]
  },
  {
   "cell_type": "code",
   "execution_count": 332,
   "metadata": {},
   "outputs": [
    {
     "name": "stdout",
     "output_type": "stream",
     "text": [
      "-----------------------------------\n",
      "accuracy_train: 0.9821909099447751\n",
      "-----------------------------------\n",
      "accuracy_test: 0.7421585494706598\n"
     ]
    }
   ],
   "source": [
    "y_train_predict = model.predict_classes(X_train) \n",
    "y_train = lb.inverse_transform(y_train)\n",
    "\n",
    "accuracy_train = recall_score(y_train, y_train_predict, average='macro') \n",
    "print('-' * 35)\n",
    "print('accuracy_train:', accuracy_train)\n",
    "\n",
    "\n",
    "y_test_predict = model.predict_classes(X_test)\n",
    "y_test = lb.inverse_transform(y_test)\n",
    "\n",
    "\n",
    "accuracy_test = recall_score(y_test, y_test_predict, average='macro')\n",
    "\n",
    "print('-' * 35)\n",
    "print('accuracy_test:', accuracy_test)"
   ]
  },
  {
   "cell_type": "code",
   "execution_count": 333,
   "metadata": {},
   "outputs": [
    {
     "name": "stdout",
     "output_type": "stream",
     "text": [
      "[[ 0.          0.          0.         ...  0.          2.83286071\n",
      "   0.        ]\n",
      " [ 0.          0.          0.         ...  0.         38.81800461\n",
      "   0.        ]\n",
      " [ 0.          0.          0.         ...  0.          0.\n",
      "   0.        ]\n",
      " ...\n",
      " [ 0.          0.          0.         ...  0.         10.23472118\n",
      "   0.        ]\n",
      " [ 0.          0.          0.         ...  0.          0.\n",
      "   0.        ]\n",
      " [ 1.06628537  0.          0.         ...  0.          0.98388106\n",
      "   0.        ]]\n",
      "[4 1 0 4 2 4 0 4 1 4 2 3 0 5 0 2 4 4 5 4 5 4 0 5 4 4 5 1 4 5 1 4 1 5 1 1 4\n",
      " 4 4 4 4 1 5 5 4 0 5 1 0 1 5 5 4 4 1 5 4 3 4 1 3 0 5 4 0 4 0 4 5 3 4 4 4 0\n",
      " 4 2 1 4 4 1 5 4 0 1 1 3 4 3 1 4 4 1 0 0 0 4 1 5 5 5 5 5 4 0 1 2 1 1 5 0 0\n",
      " 1 1 1 4 3 4 5 1 1 0 0 4 1 4 4 4 5 4 0 4 4 4 5 4 3 5 1 4 0 3 5 0 3 5 5 3 3\n",
      " 4 0 0 2 5 4 4 1 5 3 0 4 5 4 0 5 0 2 5 1 5 3 4 0 5 3 1 5 4 5 5 5 4 4 4 5 3\n",
      " 0 0 3 4 1 4 4 0 2 2 3 5 4 4 3 5 1 0 0 4 5 0 4 0 5 5 1 5 1 4 5 4 4 3 2 4 1\n",
      " 3 3 0 0 0 0 0 1 0 1 1 5 1 5 5 4 3 4 4 1 0 1 1 1 0 0 2 4 4 4 3 5 4 5 4 5 1\n",
      " 5 1 4 5 5 5 4 0 1 4 3 0 4 1 5 4 4 4 3 5 3 4 0 1 3 5 4 1 0 0 2 0 5 5 4 3 4\n",
      " 1 1 1 4 4 5 3 3 1 2 5 4 4 2 1 5 1 4 1 3]\n"
     ]
    }
   ],
   "source": [
    "print(X_test)\n",
    "print(y_test_predict)"
   ]
  },
  {
   "cell_type": "code",
   "execution_count": 334,
   "metadata": {},
   "outputs": [],
   "source": [
    "import glob\n",
    "# import keras.applications import *\n",
    "# import keras.preprocessing import image"
   ]
  },
  {
   "cell_type": "code",
   "execution_count": 335,
   "metadata": {},
   "outputs": [
    {
     "name": "stdout",
     "output_type": "stream",
     "text": [
      "CHANGE TO PNG\n",
      "CHANGE TO RGB\n"
     ]
    }
   ],
   "source": [
    "test_path = 'C:/Users/sheny/Desktop/Module3/te1/te/'\n",
    "\n",
    "transform_format('/'.join(test_path.split('/')[:-2]))\n",
    "\n",
    "# folders = os.listdir(test_path)  \n",
    "# num = len(folders)\n",
    "label_index = {'cardboard': 1, 'glass': 2, 'mental': 3, 'paper': 4, 'plastic': 5,'landfill_trash': 6}\n"
   ]
  },
  {
   "cell_type": "code",
   "execution_count": 347,
   "metadata": {},
   "outputs": [
    {
     "name": "stdout",
     "output_type": "stream",
     "text": [
      "6\n"
     ]
    },
    {
     "data": {
      "text/plain": [
       "1264"
      ]
     },
     "execution_count": 347,
     "metadata": {},
     "output_type": "execute_result"
    }
   ],
   "source": [
    "print(len(folders))\n",
    "new_test_path ='C:/Users/sheny/Desktop/Module3/te1/'\n",
    "z = read_data(new_test_path)\n",
    "result = model.predict_classes(z)\n",
    "# final_result =[]\n",
    "len(result)"
   ]
  },
  {
   "cell_type": "code",
   "execution_count": 348,
   "metadata": {},
   "outputs": [],
   "source": [
    "from pandas import *\n",
    "idx = Int64Index(range(1264,2528))\n",
    "\n",
    "data_file = {'Id':idx,'Prediction':result\n",
    "    \n",
    "}\n",
    "df = DataFrame(data_file,columns =['Id','Prediction'])\n"
   ]
  },
  {
   "cell_type": "code",
   "execution_count": 351,
   "metadata": {},
   "outputs": [],
   "source": [
    "# df['Prediction'] =df['Prediction'].replace(0,\"cardboard\")\n",
    "replace_value ={0:'cardboard',1:'glass',2:'landfill_trash'}\n",
    "df = df.replace({\"Prediction\":replace_value})\n",
    "\n",
    "# df.replace({'Prediction':{'cardboard':1}},{'Prediction':{'glass':2}},{'Prediction':{'landfill_trash':6}})"
   ]
  },
  {
   "cell_type": "code",
   "execution_count": 353,
   "metadata": {},
   "outputs": [],
   "source": [
    "replace_value2 ={'cardboard':1,'glass':2,'landfill_trash':6}\n",
    "df = df.replace({\"Prediction\":replace_value2})"
   ]
  },
  {
   "cell_type": "code",
   "execution_count": 354,
   "metadata": {},
   "outputs": [],
   "source": [
    "df.to_csv('kaggle_vgg_comp.csv',header=True,index=False)"
   ]
  }
 ],
 "metadata": {
  "kernelspec": {
   "display_name": "Python 3",
   "language": "python",
   "name": "python3"
  },
  "language_info": {
   "codemirror_mode": {
    "name": "ipython",
    "version": 3
   },
   "file_extension": ".py",
   "mimetype": "text/x-python",
   "name": "python",
   "nbconvert_exporter": "python",
   "pygments_lexer": "ipython3",
   "version": "3.6.10"
  }
 },
 "nbformat": 4,
 "nbformat_minor": 4
}
