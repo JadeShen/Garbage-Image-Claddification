{
 "cells": [
  {
   "cell_type": "code",
   "execution_count": 76,
   "metadata": {},
   "outputs": [],
   "source": [
    "from keras.preprocessing.image import img_to_array, load_img\n",
    "from keras.applications.vgg16 import VGG16\n",
    "from keras.applications.vgg16 import preprocess_input\n",
    "import numpy as np\n",
    "import os\n",
    "from sklearn.preprocessing import LabelBinarizer\n",
    "from keras.models import Sequential\n",
    "from keras.layers import Dense\n",
    "from sklearn.model_selection import train_test_split\n",
    "from sklearn.metrics import recall_score\n",
    "import matplotlib as mlp\n",
    "import matplotlib.pyplot as plt\n",
    "from matplotlib.image import imread\n",
    "from keras.preprocessing.image import load_img\n",
    "from keras.preprocessing.image import img_to_array\n",
    "from keras.models import load_model\n",
    "from PIL import Image\n",
    "# label_index = {'landfill_trash': 6, 'plastic': 5, 'paper': 4, 'mental': 3, 'glass': 2, 'cardboard': 1};\n"
   ]
  },
  {
   "cell_type": "code",
   "execution_count": 77,
   "metadata": {},
   "outputs": [],
   "source": [
    "model_vgg = VGG16(weights='imagenet', include_top=False)"
   ]
  },
  {
   "cell_type": "code",
   "execution_count": null,
   "metadata": {},
   "outputs": [],
   "source": []
  },
  {
   "cell_type": "code",
   "execution_count": 78,
   "metadata": {},
   "outputs": [],
   "source": [
    "def modelProcess(img_path, model):\n",
    "    img = load_img(img_path, target_size=(224, 224)) \n",
    "    img = img_to_array(img) \n",
    "    x = np.expand_dims(img, axis=0) \n",
    "    x = preprocess_input(x) \n",
    "    x_vgg = model.predict(x) \n",
    "    \n",
    "    x_vgg = x_vgg.reshape(1, 25088)\n",
    "    return x_vgg"
   ]
  },
  {
   "cell_type": "code",
   "execution_count": 79,
   "metadata": {},
   "outputs": [],
   "source": [
    "def transform_format(path):  \n",
    "    folders = os.listdir(path)  \n",
    "    for j in range(len(folders)):\n",
    "        dirName = path + '//' + folders[j] + '//' \n",
    "        li = os.listdir(dirName)  \n",
    "        for filename in li:\n",
    "            newname = filename\n",
    "            newname = newname.split(\".\")  \n",
    "            if newname[-1] != \"png\":  \n",
    "                newname[-1] = \"png\"\n",
    "                newname = str.join(\".\", newname)  \n",
    "                filename = dirName + filename\n",
    "                newname = dirName + newname\n",
    "                os.rename(filename, newname)  \n",
    "                print('reading the images:%s' % (newname))  \n",
    "                a = np.array(Image.open(newname))  \n",
    "                if ((len(a.shape) != 3) or (a.shape[2] != 3)):  \n",
    "                    a = np.array(Image.open(newname).convert('RGB'))  \n",
    "                    img = Image.fromarray(a.astype('uint8'))  \n",
    "                    img.save(newname)  \n",
    "                    print(a.shape)  "
   ]
  },
  {
   "cell_type": "code",
   "execution_count": 80,
   "metadata": {},
   "outputs": [],
   "source": [
    "def read_data(path):\n",
    "    folders = os.listdir(path) \n",
    "    for j in range(len(folders)): \n",
    "        folder = path + '//' + folders[j] \n",
    "        dirs = os.listdir(folder) \n",
    "       \n",
    "        img_path = []\n",
    "        for i in dirs:\n",
    "            if os.path.splitext(i)[1] == \".png\": \n",
    "                img_path.append(i)\n",
    "        img_path = [folder + \"//\" + i for i in img_path] \n",
    "        features1 = np.zeros([len(img_path), 25088]) \n",
    "        for i in range(len(img_path)):\n",
    "            feature_i = modelProcess(img_path[i], model_vgg) \n",
    "            # print('preprocessed:', img_path[i])\n",
    "            features1[i] = feature_i\n",
    "        if j == 0: \n",
    "            X = features1 \n",
    "        else:\n",
    "            X = np.concatenate((X, features1), axis=0)\n",
    "           \n",
    "    return X \n",
    "       "
   ]
  },
  {
   "cell_type": "code",
   "execution_count": 81,
   "metadata": {},
   "outputs": [],
   "source": [
    "def read_label(path):\n",
    "    y = []\n",
    "    folders = os.listdir(path)  \n",
    "    for j in range(len(folders)): \n",
    "        dirName = path + '//' + folders[j] + '//' \n",
    "        lens = len(os.listdir(dirName)) \n",
    "        for i in range(lens):\n",
    "            y.append(j) \n",
    "    lb = LabelBinarizer() \n",
    "    y = lb.fit_transform(y)\n",
    "    return y"
   ]
  },
  {
   "cell_type": "code",
   "execution_count": 82,
   "metadata": {},
   "outputs": [],
   "source": [
    "path = '/Users/sheny/Desktop/Module3/TR_NEW' \n",
    "\n",
    "y = []\n",
    "folders = os.listdir(path) \n",
    "for j in range(len(folders)): \n",
    "    dirName = path + '//' + folders[j] + '//'  \n",
    "    lens = len(os.listdir(dirName)) \n",
    "    for i in range(lens):\n",
    "        y.append(j) \n",
    "\n",
    "lb = LabelBinarizer()\n",
    "y = lb.fit_transform(y) \n",
    "\n",
    "transform_format(path)  \n",
    "X = read_data(path) \n"
   ]
  },
  {
   "cell_type": "code",
   "execution_count": 83,
   "metadata": {},
   "outputs": [
    {
     "name": "stdout",
     "output_type": "stream",
     "text": [
      "['cardboard', 'glass', 'landfill_trash', 'mental', 'paper', 'plastic']\n"
     ]
    }
   ],
   "source": [
    "print(folders)"
   ]
  },
  {
   "cell_type": "code",
   "execution_count": 84,
   "metadata": {},
   "outputs": [
    {
     "name": "stdout",
     "output_type": "stream",
     "text": [
      "X_train.shape: (1010, 25088)\n",
      "X_test.shape: (253, 25088)\n",
      "y_train.shape: (1010, 6)\n",
      "y_test.shape: (253, 6)\n"
     ]
    }
   ],
   "source": [
    "X_train, X_test, y_train, y_test = train_test_split(X, y, test_size=0.2, random_state=50)\n",
    "print('X_train.shape:', X_train.shape)\n",
    "print('X_test.shape:', X_test.shape)\n",
    "print('y_train.shape:', y_train.shape)\n",
    "print('y_test.shape:', y_test.shape)"
   ]
  },
  {
   "cell_type": "code",
   "execution_count": 87,
   "metadata": {},
   "outputs": [],
   "source": [
    "# from keras.layers.core import Dropout"
   ]
  },
  {
   "cell_type": "code",
   "execution_count": 88,
   "metadata": {},
   "outputs": [
    {
     "name": "stdout",
     "output_type": "stream",
     "text": [
      "Model: \"sequential_7\"\n",
      "_________________________________________________________________\n",
      "Layer (type)                 Output Shape              Param #   \n",
      "=================================================================\n",
      "dense_11 (Dense)             (None, 40)                1003560   \n",
      "_________________________________________________________________\n",
      "dropout_1 (Dropout)          (None, 40)                0         \n",
      "_________________________________________________________________\n",
      "dense_12 (Dense)             (None, 6)                 246       \n",
      "_________________________________________________________________\n",
      "dropout_2 (Dropout)          (None, 6)                 0         \n",
      "=================================================================\n",
      "Total params: 1,003,806\n",
      "Trainable params: 1,003,806\n",
      "Non-trainable params: 0\n",
      "_________________________________________________________________\n"
     ]
    }
   ],
   "source": [
    "model = Sequential()\n",
    "model.add(Dense(units=40, activation='relu', input_dim=25088))\n",
    "\n",
    "model.add(Dense(units=6, activation='softmax'))\n",
    "\n",
    "model.summary()\n"
   ]
  },
  {
   "cell_type": "code",
   "execution_count": 89,
   "metadata": {},
   "outputs": [
    {
     "name": "stdout",
     "output_type": "stream",
     "text": [
      "WARNING:tensorflow:From C:\\Users\\sheny\\anaconda3\\lib\\site-packages\\tensorflow\\python\\ops\\math_grad.py:1250: add_dispatch_support.<locals>.wrapper (from tensorflow.python.ops.array_ops) is deprecated and will be removed in a future version.\n",
      "Instructions for updating:\n",
      "Use tf.where in 2.0, which has the same broadcast rule as np.where\n",
      "Epoch 1/39\n",
      "1010/1010 [==============================] - 0s 345us/step - loss: 0.7604 - accuracy: 0.1693\n",
      "Epoch 2/39\n",
      "1010/1010 [==============================] - 0s 202us/step - loss: 1.1921e-07 - accuracy: 0.1713\n",
      "Epoch 3/39\n",
      "1010/1010 [==============================] - 0s 199us/step - loss: 1.1921e-07 - accuracy: 0.1713\n",
      "Epoch 4/39\n",
      "1010/1010 [==============================] - 0s 198us/step - loss: 1.1921e-07 - accuracy: 0.1713\n",
      "Epoch 5/39\n",
      "1010/1010 [==============================] - 0s 198us/step - loss: 1.1921e-07 - accuracy: 0.1713\n",
      "Epoch 6/39\n",
      "1010/1010 [==============================] - 0s 197us/step - loss: 1.1921e-07 - accuracy: 0.1713\n",
      "Epoch 7/39\n",
      "1010/1010 [==============================] - 0s 202us/step - loss: 1.1921e-07 - accuracy: 0.1713\n",
      "Epoch 8/39\n",
      "1010/1010 [==============================] - 0s 207us/step - loss: 1.1921e-07 - accuracy: 0.1713\n",
      "Epoch 9/39\n",
      "1010/1010 [==============================] - 0s 200us/step - loss: 1.1921e-07 - accuracy: 0.1713\n",
      "Epoch 10/39\n",
      "1010/1010 [==============================] - 0s 200us/step - loss: 1.1921e-07 - accuracy: 0.1713\n",
      "Epoch 11/39\n",
      "1010/1010 [==============================] - 0s 205us/step - loss: 1.1921e-07 - accuracy: 0.1713\n",
      "Epoch 12/39\n",
      "1010/1010 [==============================] - 0s 206us/step - loss: 1.1921e-07 - accuracy: 0.1713\n",
      "Epoch 13/39\n",
      "1010/1010 [==============================] - 0s 203us/step - loss: 1.1921e-07 - accuracy: 0.1713\n",
      "Epoch 14/39\n",
      "1010/1010 [==============================] - 0s 198us/step - loss: 1.1921e-07 - accuracy: 0.1713\n",
      "Epoch 15/39\n",
      "1010/1010 [==============================] - 0s 201us/step - loss: 1.1921e-07 - accuracy: 0.1713\n",
      "Epoch 16/39\n",
      "1010/1010 [==============================] - 0s 201us/step - loss: 1.1921e-07 - accuracy: 0.1713\n",
      "Epoch 17/39\n",
      "1010/1010 [==============================] - 0s 201us/step - loss: 1.1921e-07 - accuracy: 0.1713\n",
      "Epoch 18/39\n",
      "1010/1010 [==============================] - 0s 201us/step - loss: 1.1921e-07 - accuracy: 0.1713\n",
      "Epoch 19/39\n",
      "1010/1010 [==============================] - 0s 206us/step - loss: 1.1921e-07 - accuracy: 0.1713\n",
      "Epoch 20/39\n",
      "1010/1010 [==============================] - 0s 207us/step - loss: 1.1921e-07 - accuracy: 0.1713\n",
      "Epoch 21/39\n",
      "1010/1010 [==============================] - 0s 196us/step - loss: 1.1921e-07 - accuracy: 0.1713\n",
      "Epoch 22/39\n",
      "1010/1010 [==============================] - 0s 197us/step - loss: 1.1921e-07 - accuracy: 0.1713\n",
      "Epoch 23/39\n",
      "1010/1010 [==============================] - 0s 197us/step - loss: 1.1921e-07 - accuracy: 0.1713\n",
      "Epoch 24/39\n",
      "1010/1010 [==============================] - 0s 196us/step - loss: 1.1921e-07 - accuracy: 0.1713\n",
      "Epoch 25/39\n",
      "1010/1010 [==============================] - 0s 200us/step - loss: 1.1921e-07 - accuracy: 0.1713\n",
      "Epoch 26/39\n",
      "1010/1010 [==============================] - 0s 202us/step - loss: 1.1921e-07 - accuracy: 0.1713\n",
      "Epoch 27/39\n",
      "1010/1010 [==============================] - 0s 203us/step - loss: 1.1921e-07 - accuracy: 0.1713\n",
      "Epoch 28/39\n",
      "1010/1010 [==============================] - 0s 197us/step - loss: 1.1921e-07 - accuracy: 0.1713\n",
      "Epoch 29/39\n",
      "1010/1010 [==============================] - 0s 202us/step - loss: 1.1921e-07 - accuracy: 0.1713\n",
      "Epoch 30/39\n",
      "1010/1010 [==============================] - 0s 202us/step - loss: 1.1921e-07 - accuracy: 0.1713\n",
      "Epoch 31/39\n",
      "1010/1010 [==============================] - 0s 201us/step - loss: 1.1921e-07 - accuracy: 0.1713\n",
      "Epoch 32/39\n",
      "1010/1010 [==============================] - 0s 202us/step - loss: 1.1921e-07 - accuracy: 0.1713\n",
      "Epoch 33/39\n",
      "1010/1010 [==============================] - 0s 208us/step - loss: 1.1921e-07 - accuracy: 0.1713\n",
      "Epoch 34/39\n",
      "1010/1010 [==============================] - 0s 201us/step - loss: 1.1921e-07 - accuracy: 0.1713\n",
      "Epoch 35/39\n",
      "1010/1010 [==============================] - 0s 203us/step - loss: 1.1921e-07 - accuracy: 0.1713\n",
      "Epoch 36/39\n",
      "1010/1010 [==============================] - 0s 199us/step - loss: 1.1921e-07 - accuracy: 0.1713\n",
      "Epoch 37/39\n",
      "1010/1010 [==============================] - 0s 198us/step - loss: 1.1921e-07 - accuracy: 0.1713\n",
      "Epoch 38/39\n",
      "1010/1010 [==============================] - 0s 200us/step - loss: 1.1921e-07 - accuracy: 0.1713\n",
      "Epoch 39/39\n",
      "1010/1010 [==============================] - 0s 205us/step - loss: 1.1921e-07 - accuracy: 0.1713\n"
     ]
    },
    {
     "data": {
      "text/plain": [
       "<keras.callbacks.callbacks.History at 0x26c0ba65488>"
      ]
     },
     "execution_count": 89,
     "metadata": {},
     "output_type": "execute_result"
    }
   ],
   "source": [
    "model.compile(optimizer='adam', loss='categorical_crossentropy', metrics=['accuracy'])\n",
    "\n",
    "model.fit(X_train, y_train, epochs=39)"
   ]
  },
  {
   "cell_type": "code",
   "execution_count": 68,
   "metadata": {},
   "outputs": [
    {
     "name": "stdout",
     "output_type": "stream",
     "text": [
      "-----------------------------------\n",
      "accuracy_train: 0.9915771831453458\n",
      "-----------------------------------\n",
      "accuracy_test: 0.7559544407574811\n"
     ]
    }
   ],
   "source": [
    "y_train_predict = model.predict_classes(X_train) \n",
    "y_train = lb.inverse_transform(y_train)\n",
    "\n",
    "accuracy_train = recall_score(y_train, y_train_predict, average='macro') \n",
    "print('-' * 35)\n",
    "print('accuracy_train:', accuracy_train)\n",
    "\n",
    "\n",
    "y_test_predict = model.predict_classes(X_test)\n",
    "y_test = lb.inverse_transform(y_test)\n",
    "\n",
    "\n",
    "accuracy_test = recall_score(y_test, y_test_predict, average='macro')\n",
    "\n",
    "print('-' * 35)\n",
    "print('accuracy_test:', accuracy_test)"
   ]
  },
  {
   "cell_type": "code",
   "execution_count": 47,
   "metadata": {},
   "outputs": [
    {
     "name": "stdout",
     "output_type": "stream",
     "text": [
      "[[ 0.          0.          0.         ...  0.          2.83286071\n",
      "   0.        ]\n",
      " [ 0.          0.          0.         ...  0.         38.81800461\n",
      "   0.        ]\n",
      " [ 0.          0.          0.         ...  0.          0.\n",
      "   0.        ]\n",
      " ...\n",
      " [ 0.          0.          0.         ...  0.          0.\n",
      "   0.        ]\n",
      " [ 0.          0.          0.         ...  0.          0.\n",
      "   0.        ]\n",
      " [ 0.          0.          0.         ...  0.         33.71041107\n",
      "   0.        ]]\n",
      "[4 1 0 4 2 3 0 4 1 3 3 3 0 5 0 2 3 3 3 4 5 4 0 5 4 4 5 1 0 5 1 4 1 3 1 1 2\n",
      " 3 3 4 4 1 5 5 3 0 5 1 0 3 5 5 4 4 1 3 4 3 4 3 3 0 5 4 0 3 0 3 5 3 3 4 3 0\n",
      " 4 3 3 4 2 1 5 4 4 1 1 3 4 3 1 4 4 1 0 0 0 5 3 5 1 1 5 5 0 0 1 3 1 1 1 0 0\n",
      " 1 3 1 4 3 4 5 1 1 0 0 2 1 4 4 4 5 4 0 4 3 4 5 4 3 5 3 2 0 1 5 4 3 5 5 3 1\n",
      " 4 0 0 2 5 4 3 3 3 3 0 3 5 4 0 5 0 2 5 1 1 3 4 0 1 3 1 4 4 5 5 5 3 2 4 5 3\n",
      " 0 0 1 4 1 4 4 0 2 2 3 5 4 4 1 1 1 0 0 4 1 0 4 0 1 5 1 1 1 4 5 4 4 1 3 4 1\n",
      " 3 3 0 0 0 3 0 1 0 1 1 5 1 5 5 4 3 4 4 1 0 1 1 1 4 4 2 3 4 4 3]\n"
     ]
    }
   ],
   "source": [
    "print(X_test)\n",
    "print(y_test_predict)"
   ]
  },
  {
   "cell_type": "code",
   "execution_count": null,
   "metadata": {},
   "outputs": [],
   "source": []
  },
  {
   "cell_type": "code",
   "execution_count": 48,
   "metadata": {},
   "outputs": [],
   "source": []
  },
  {
   "cell_type": "code",
   "execution_count": 49,
   "metadata": {},
   "outputs": [],
   "source": [
    "test_path = 'C:/Users/sheny/Desktop/Module3/te1/te/'\n",
    "\n",
    "transform_format('/'.join(test_path.split('/')[:-2]))\n",
    "\n",
    "# folders = os.listdir(test_path)  \n",
    "# num = len(folders)\n",
    "label_index = {'cardboard': 1, 'glass': 2, 'mental': 3, 'paper': 4, 'plastic': 5,'landfill_trash': 6}\n"
   ]
  },
  {
   "cell_type": "code",
   "execution_count": 50,
   "metadata": {},
   "outputs": [
    {
     "name": "stdout",
     "output_type": "stream",
     "text": [
      "6\n"
     ]
    },
    {
     "data": {
      "text/plain": [
       "1264"
      ]
     },
     "execution_count": 50,
     "metadata": {},
     "output_type": "execute_result"
    }
   ],
   "source": [
    "print(len(folders))\n",
    "new_test_path ='C:/Users/sheny/Desktop/Module3/te1/'\n",
    "z = read_data(new_test_path)\n",
    "result = model.predict_classes(z)\n",
    "# final_result =[]\n",
    "len(result)"
   ]
  },
  {
   "cell_type": "code",
   "execution_count": 51,
   "metadata": {},
   "outputs": [],
   "source": [
    "from pandas import *\n",
    "idx = Int64Index(range(1264,2528))\n",
    "\n",
    "data_file = {'Id':idx,'Prediction':result\n",
    "    \n",
    "}\n",
    "df = DataFrame(data_file,columns =['Id','Prediction'])\n"
   ]
  },
  {
   "cell_type": "code",
   "execution_count": 52,
   "metadata": {},
   "outputs": [],
   "source": [
    "# df['Prediction'] =df['Prediction'].replace(0,\"cardboard\")\n",
    "replace_value ={0:'cardboard',1:'glass',2:'landfill_trash'}\n",
    "df = df.replace({\"Prediction\":replace_value})\n",
    "\n",
    "# df.replace({'Prediction':{'cardboard':1}},{'Prediction':{'glass':2}},{'Prediction':{'landfill_trash':6}})"
   ]
  },
  {
   "cell_type": "code",
   "execution_count": 53,
   "metadata": {},
   "outputs": [],
   "source": [
    "replace_value2 ={'cardboard':1,'glass':2,'landfill_trash':6}\n",
    "df = df.replace({\"Prediction\":replace_value2})"
   ]
  },
  {
   "cell_type": "code",
   "execution_count": 54,
   "metadata": {},
   "outputs": [],
   "source": [
    "df.to_csv('kaggle_vgg_2.csv',header=True,index=False)"
   ]
  },
  {
   "cell_type": "code",
   "execution_count": null,
   "metadata": {},
   "outputs": [],
   "source": []
  }
 ],
 "metadata": {
  "kernelspec": {
   "display_name": "Python 3",
   "language": "python",
   "name": "python3"
  },
  "language_info": {
   "codemirror_mode": {
    "name": "ipython",
    "version": 3
   },
   "file_extension": ".py",
   "mimetype": "text/x-python",
   "name": "python",
   "nbconvert_exporter": "python",
   "pygments_lexer": "ipython3",
   "version": "3.7.7"
  }
 },
 "nbformat": 4,
 "nbformat_minor": 4
}
