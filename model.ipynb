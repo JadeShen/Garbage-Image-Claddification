{
 "cells": [
  {
   "cell_type": "code",
   "execution_count": 2,
   "metadata": {},
   "outputs": [],
   "source": [
    "from keras.preprocessing.image import img_to_array, load_img\n",
    "from keras.applications.vgg16 import VGG16\n",
    "from keras.applications.vgg16 import preprocess_input\n",
    "import numpy as np\n",
    "import os\n",
    "from sklearn.preprocessing import LabelBinarizer\n",
    "from keras.models import Sequential\n",
    "from keras.layers import Dense\n",
    "from sklearn.model_selection import train_test_split\n",
    "from sklearn.metrics import recall_score\n",
    "import matplotlib as mlp\n",
    "import matplotlib.pyplot as plt\n",
    "from matplotlib.image import imread\n",
    "from keras.preprocessing.image import load_img\n",
    "from keras.preprocessing.image import img_to_array\n",
    "from keras.models import load_model\n",
    "from PIL import Image\n",
    "# label_index = {'landfill_trash': 6, 'plastic': 5, 'paper': 4, 'mental': 3, 'glass': 2, 'cardboard': 1};\n"
   ]
  },
  {
   "cell_type": "code",
   "execution_count": 12,
   "metadata": {},
   "outputs": [
    {
     "name": "stdout",
     "output_type": "stream",
     "text": [
      "WARNING:tensorflow:From C:\\Users\\sheny\\anaconda3\\lib\\site-packages\\keras\\backend\\tensorflow_backend.py:4070: The name tf.nn.max_pool is deprecated. Please use tf.nn.max_pool2d instead.\n",
      "\n"
     ]
    }
   ],
   "source": [
    "model_vgg = VGG16(weights='imagenet', include_top=False)"
   ]
  },
  {
   "cell_type": "code",
   "execution_count": 3,
   "metadata": {},
   "outputs": [],
   "source": [
    "def modelProcess(img_path, model):\n",
    "    img = load_img(img_path, target_size=(224, 224)) \n",
    "    img = img_to_array(img) \n",
    "    x = np.expand_dims(img, axis=0) \n",
    "    x = preprocess_input(x) \n",
    "    x_vgg = model.predict(x) \n",
    "    \n",
    "    x_vgg = x_vgg.reshape(1, 25088)\n",
    "    return x_vgg"
   ]
  },
  {
   "cell_type": "code",
   "execution_count": 4,
   "metadata": {},
   "outputs": [],
   "source": [
    "def transform_format(path):  \n",
    "    folders = os.listdir(path)  \n",
    "    for j in range(len(folders)):\n",
    "        dirName = path + '//' + folders[j] + '//' \n",
    "        li = os.listdir(dirName)  \n",
    "        for filename in li:\n",
    "            newname = filename\n",
    "            newname = newname.split(\".\")  \n",
    "            if newname[-1] != \"png\":  \n",
    "                newname[-1] = \"png\"\n",
    "                newname = str.join(\".\", newname)  \n",
    "                filename = dirName + filename\n",
    "                newname = dirName + newname\n",
    "                os.rename(filename, newname)  \n",
    "                print('reading the images:%s' % (newname))  \n",
    "                a = np.array(Image.open(newname))  \n",
    "                if ((len(a.shape) != 3) or (a.shape[2] != 3)):  \n",
    "                    a = np.array(Image.open(newname).convert('RGB'))  \n",
    "                    img = Image.fromarray(a.astype('uint8'))  \n",
    "                    img.save(newname)  \n",
    "                    print(a.shape)  "
   ]
  },
  {
   "cell_type": "code",
   "execution_count": 5,
   "metadata": {},
   "outputs": [],
   "source": [
    "def read_data(path):\n",
    "    folders = os.listdir(path) \n",
    "    for j in range(len(folders)): \n",
    "        folder = path + '//' + folders[j] \n",
    "        dirs = os.listdir(folder) \n",
    "       \n",
    "        img_path = []\n",
    "        for i in dirs:\n",
    "            if os.path.splitext(i)[1] == \".png\": \n",
    "                img_path.append(i)\n",
    "        img_path = [folder + \"//\" + i for i in img_path] \n",
    "        features1 = np.zeros([len(img_path), 25088]) \n",
    "        for i in range(len(img_path)):\n",
    "            feature_i = modelProcess(img_path[i], model_vgg) \n",
    "            # print('preprocessed:', img_path[i])\n",
    "            features1[i] = feature_i\n",
    "        if j == 0: \n",
    "            X = features1 \n",
    "        else:\n",
    "            X = np.concatenate((X, features1), axis=0)\n",
    "           \n",
    "    return X \n",
    "       "
   ]
  },
  {
   "cell_type": "code",
   "execution_count": 10,
   "metadata": {},
   "outputs": [],
   "source": [
    "def read_label(path):\n",
    "    y = []\n",
    "    folders = os.listdir(path)  \n",
    "    for j in range(len(folders)): \n",
    "        dirName = path + '//' + folders[j] + '//' \n",
    "        lens = len(os.listdir(dirName)) \n",
    "        for i in range(lens):\n",
    "            y.append(j) \n",
    "    lb = LabelBinarizer() \n",
    "    y = lb.fit_transform(y)\n",
    "    return y"
   ]
  },
  {
   "cell_type": "code",
   "execution_count": 11,
   "metadata": {},
   "outputs": [
    {
     "ename": "NameError",
     "evalue": "name 'model_vgg' is not defined",
     "output_type": "error",
     "traceback": [
      "\u001b[1;31m---------------------------------------------------------------------------\u001b[0m",
      "\u001b[1;31mNameError\u001b[0m                                 Traceback (most recent call last)",
      "\u001b[1;32m<ipython-input-11-6ed2fb741187>\u001b[0m in \u001b[0;36m<module>\u001b[1;34m\u001b[0m\n\u001b[0;32m     13\u001b[0m \u001b[1;33m\u001b[0m\u001b[0m\n\u001b[0;32m     14\u001b[0m \u001b[0mtransform_format\u001b[0m\u001b[1;33m(\u001b[0m\u001b[0mpath\u001b[0m\u001b[1;33m)\u001b[0m\u001b[1;33m\u001b[0m\u001b[1;33m\u001b[0m\u001b[0m\n\u001b[1;32m---> 15\u001b[1;33m \u001b[0mX\u001b[0m \u001b[1;33m=\u001b[0m \u001b[0mread_data\u001b[0m\u001b[1;33m(\u001b[0m\u001b[0mpath\u001b[0m\u001b[1;33m)\u001b[0m\u001b[1;33m\u001b[0m\u001b[1;33m\u001b[0m\u001b[0m\n\u001b[0m",
      "\u001b[1;32m<ipython-input-5-4ce2ce271c39>\u001b[0m in \u001b[0;36mread_data\u001b[1;34m(path)\u001b[0m\n\u001b[0;32m     12\u001b[0m         \u001b[0mfeatures1\u001b[0m \u001b[1;33m=\u001b[0m \u001b[0mnp\u001b[0m\u001b[1;33m.\u001b[0m\u001b[0mzeros\u001b[0m\u001b[1;33m(\u001b[0m\u001b[1;33m[\u001b[0m\u001b[0mlen\u001b[0m\u001b[1;33m(\u001b[0m\u001b[0mimg_path\u001b[0m\u001b[1;33m)\u001b[0m\u001b[1;33m,\u001b[0m \u001b[1;36m25088\u001b[0m\u001b[1;33m]\u001b[0m\u001b[1;33m)\u001b[0m\u001b[1;33m\u001b[0m\u001b[1;33m\u001b[0m\u001b[0m\n\u001b[0;32m     13\u001b[0m         \u001b[1;32mfor\u001b[0m \u001b[0mi\u001b[0m \u001b[1;32min\u001b[0m \u001b[0mrange\u001b[0m\u001b[1;33m(\u001b[0m\u001b[0mlen\u001b[0m\u001b[1;33m(\u001b[0m\u001b[0mimg_path\u001b[0m\u001b[1;33m)\u001b[0m\u001b[1;33m)\u001b[0m\u001b[1;33m:\u001b[0m\u001b[1;33m\u001b[0m\u001b[1;33m\u001b[0m\u001b[0m\n\u001b[1;32m---> 14\u001b[1;33m             \u001b[0mfeature_i\u001b[0m \u001b[1;33m=\u001b[0m \u001b[0mmodelProcess\u001b[0m\u001b[1;33m(\u001b[0m\u001b[0mimg_path\u001b[0m\u001b[1;33m[\u001b[0m\u001b[0mi\u001b[0m\u001b[1;33m]\u001b[0m\u001b[1;33m,\u001b[0m \u001b[0mmodel_vgg\u001b[0m\u001b[1;33m)\u001b[0m\u001b[1;33m\u001b[0m\u001b[1;33m\u001b[0m\u001b[0m\n\u001b[0m\u001b[0;32m     15\u001b[0m             \u001b[1;31m# print('preprocessed:', img_path[i])\u001b[0m\u001b[1;33m\u001b[0m\u001b[1;33m\u001b[0m\u001b[1;33m\u001b[0m\u001b[0m\n\u001b[0;32m     16\u001b[0m             \u001b[0mfeatures1\u001b[0m\u001b[1;33m[\u001b[0m\u001b[0mi\u001b[0m\u001b[1;33m]\u001b[0m \u001b[1;33m=\u001b[0m \u001b[0mfeature_i\u001b[0m\u001b[1;33m\u001b[0m\u001b[1;33m\u001b[0m\u001b[0m\n",
      "\u001b[1;31mNameError\u001b[0m: name 'model_vgg' is not defined"
     ]
    }
   ],
   "source": [
    "path = '/Users/sheny/Desktop/PROJECT/Module3/Train' \n",
    "\n",
    "y = []\n",
    "folders = os.listdir(path) \n",
    "for j in range(len(folders)): \n",
    "    dirName = path + '//' + folders[j] + '//'  \n",
    "    lens = len(os.listdir(dirName)) \n",
    "    for i in range(lens):\n",
    "        y.append(j) \n",
    "\n",
    "lb = LabelBinarizer()\n",
    "y = lb.fit_transform(y) \n",
    "\n",
    "transform_format(path)  \n",
    "X = read_data(path) \n"
   ]
  },
  {
   "cell_type": "code",
   "execution_count": null,
   "metadata": {},
   "outputs": [],
   "source": [
    "print(folders)"
   ]
  },
  {
   "cell_type": "code",
   "execution_count": null,
   "metadata": {},
   "outputs": [],
   "source": [
    "X_train, X_test, y_train, y_test = train_test_split(X, y, test_size=0.18, random_state=50)\n",
    "print('X_train.shape:', X_train.shape)\n",
    "print('X_test.shape:', X_test.shape)\n",
    "print('y_train.shape:', y_train.shape)\n",
    "print('y_test.shape:', y_test.shape)"
   ]
  },
  {
   "cell_type": "code",
   "execution_count": null,
   "metadata": {},
   "outputs": [],
   "source": [
    "# from keras.layers.core import Dropout\n",
    "from tensorflow.python.keras import layers"
   ]
  },
  {
   "cell_type": "code",
   "execution_count": null,
   "metadata": {},
   "outputs": [],
   "source": [
    "model = Sequential()\n",
    "model.add(Dense(units=40, activation='relu', input_dim=25088))\n",
    "# model.add(BatchNormalization())\n",
    "model.add(Dense(units=6, activation='softmax'))\n",
    "\n",
    "model.summary()\n"
   ]
  },
  {
   "cell_type": "code",
   "execution_count": null,
   "metadata": {},
   "outputs": [],
   "source": [
    "model.compile(optimizer='adam', loss='categorical_crossentropy', metrics=['accuracy'])\n",
    "\n",
    "model.fit(X_train, y_train, epochs=39)"
   ]
  },
  {
   "cell_type": "code",
   "execution_count": null,
   "metadata": {},
   "outputs": [],
   "source": [
    "y_train_predict = model.predict_classes(X_train) \n",
    "y_train = lb.inverse_transform(y_train)\n",
    "\n",
    "accuracy_train = recall_score(y_train, y_train_predict, average='macro') \n",
    "print('-' * 35)\n",
    "print('accuracy_train:', accuracy_train)\n",
    "\n",
    "\n",
    "y_test_predict = model.predict_classes(X_test)\n",
    "y_test = lb.inverse_transform(y_test)\n",
    "\n",
    "\n",
    "accuracy_test = recall_score(y_test, y_test_predict, average='macro')\n",
    "\n",
    "print('-' * 35)\n",
    "print('accuracy_test:', accuracy_test)"
   ]
  },
  {
   "cell_type": "code",
   "execution_count": null,
   "metadata": {},
   "outputs": [],
   "source": [
    "print(X_test)\n",
    "print(y_test_predict)"
   ]
  },
  {
   "cell_type": "code",
   "execution_count": null,
   "metadata": {},
   "outputs": [],
   "source": [
    "test_path = 'C:/Users/sheny/Desktop/PROJECT/Module3/te1/te/'\n",
    "\n",
    "transform_format('/'.join(test_path.split('/')[:-2]))\n",
    "\n",
    "# folders = os.listdir(test_path)  \n",
    "# num = len(folders)\n",
    "label_index = {'cardboard': 1, 'glass': 2, 'mental': 3, 'paper': 4, 'plastic': 5,'landfill_trash': 6}\n"
   ]
  },
  {
   "cell_type": "code",
   "execution_count": null,
   "metadata": {},
   "outputs": [],
   "source": [
    "print(len(folders))\n",
    "new_test_path ='C:/Users/sheny/Desktop/Module3/te1/'\n",
    "z = read_data(new_test_path)\n",
    "result = model.predict_classes(z)\n",
    "# final_result =[]\n",
    "len(result)"
   ]
  },
  {
   "cell_type": "code",
   "execution_count": null,
   "metadata": {},
   "outputs": [],
   "source": [
    "from pandas import *\n",
    "idx = Int64Index(range(1264,2528))\n",
    "\n",
    "data_file = {'Id':idx,'Prediction':result\n",
    "    \n",
    "}\n",
    "df = DataFrame(data_file,columns =['Id','Prediction'])\n"
   ]
  },
  {
   "cell_type": "code",
   "execution_count": null,
   "metadata": {},
   "outputs": [],
   "source": [
    "# df['Prediction'] =df['Prediction'].replace(0,\"cardboard\")\n",
    "replace_value ={0:'cardboard',1:'glass',2:'landfill_trash'}\n",
    "df = df.replace({\"Prediction\":replace_value})\n",
    "replace_value2 ={'cardboard':1,'glass':2,'landfill_trash':6}\n",
    "df = df.replace({\"Prediction\":replace_value2})\n",
    "# df.replace({'Prediction':{'cardboard':1}},{'Prediction':{'glass':2}},{'Prediction':{'landfill_trash':6}})"
   ]
  },
  {
   "cell_type": "code",
   "execution_count": null,
   "metadata": {},
   "outputs": [],
   "source": [
    "df.to_csv('kaggle_vgg_2.csv',header=True,index=False)"
   ]
  }
 ],
 "metadata": {
  "kernelspec": {
   "display_name": "Python 3",
   "language": "python",
   "name": "python3"
  },
  "language_info": {
   "codemirror_mode": {
    "name": "ipython",
    "version": 3
   },
   "file_extension": ".py",
   "mimetype": "text/x-python",
   "name": "python",
   "nbconvert_exporter": "python",
   "pygments_lexer": "ipython3",
   "version": "3.7.7"
  }
 },
 "nbformat": 4,
 "nbformat_minor": 4
}
